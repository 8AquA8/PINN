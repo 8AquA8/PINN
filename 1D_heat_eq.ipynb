{
 "cells": [
  {
   "cell_type": "markdown",
   "metadata": {},
   "source": [
    "Import Module"
   ]
  },
  {
   "cell_type": "code",
   "execution_count": 10,
   "metadata": {},
   "outputs": [],
   "source": [
    "import torch\n",
    "import torch.nn as nn\n",
    "import torch.nn.functional as F\n",
    "import matplotlib.pyplot as plt\n",
    "from tqdm.notebook import tqdm\n",
    "import numpy as np\n",
    "import imageio\n",
    "import os\n",
    "import shutil"
   ]
  },
  {
   "cell_type": "markdown",
   "metadata": {},
   "source": [
    "Hyperparameter setting"
   ]
  },
  {
   "cell_type": "code",
   "execution_count": 11,
   "metadata": {},
   "outputs": [],
   "source": [
    "epochs=1000\n",
    "learning_rate=1e-3\n",
    "#Batch Size -> Full Batch\n",
    "\n",
    "#Number of points\n",
    "num_GE=1000 #Governing Equation\n",
    "\n",
    "#Terminal time\n",
    "T=1"
   ]
  },
  {
   "cell_type": "markdown",
   "metadata": {},
   "source": [
    "Loss functions"
   ]
  },
  {
   "cell_type": "code",
   "execution_count": 12,
   "metadata": {},
   "outputs": [],
   "source": [
    "def relative_L2_error(predictions, targets):\n",
    "\n",
    "  square_diff = (predictions - targets)**2\n",
    "  relative_L2_error = torch.sqrt(torch.sum(square_diff))/torch.sqrt(torch.sum(targets**2))\n",
    "  return relative_L2_error\n",
    "\n",
    "mse_loss = nn.MSELoss()"
   ]
  },
  {
   "cell_type": "markdown",
   "metadata": {},
   "source": [
    "Auxilary functions"
   ]
  },
  {
   "cell_type": "code",
   "execution_count": 13,
   "metadata": {},
   "outputs": [],
   "source": [
    "def calculate_u(data):\n",
    "    # Assuming data is a 1000x2 numpy array\n",
    "    # First column is x values, second column is t values\n",
    "    x = data[:, 0]\n",
    "    t = data[:, 1]\n",
    "\n",
    "    # Calculate u(x, t)\n",
    "    u_values = np.sin(np.pi * x) * np.exp(np.sqrt(7) * t)\n",
    "    \n",
    "    return u_values"
   ]
  },
  {
   "cell_type": "markdown",
   "metadata": {},
   "source": [
    "How input data is made"
   ]
  },
  {
   "cell_type": "code",
   "execution_count": 14,
   "metadata": {},
   "outputs": [],
   "source": [
    "num_input=100\n",
    "#points for GE\n",
    "t_GE=T*torch.rand(size=(num_input,))\n",
    "t_GE=t_GE.unsqueeze(1)\n",
    "\n",
    "x_GE=2*torch.rand(size=(num_input,))-1\n",
    "x_GE=x_GE.unsqueeze(1)\n",
    "\n",
    "xt_GE=torch.hstack((x_GE, t_GE))\n",
    "\n",
    "#points for IC\n",
    "t_IC = torch.zeros((num_input,))\n",
    "t_IC=t_IC.unsqueeze(1)\n",
    "\n",
    "x_IC = 2 * torch.rand(size=(num_input, )) - 1\n",
    "x_IC=x_IC.unsqueeze(1)\n",
    "\n",
    "xt_IC = torch.hstack((x_IC, t_IC))\n",
    "\n",
    "#points for BC\n",
    "\n",
    "tensor_ones=torch.ones(50)\n",
    "tensor_neg_ones=-1*torch.ones(50)\n",
    "\n",
    "concat_tensor = torch.cat((tensor_ones, tensor_neg_ones), 0)\n",
    "\n",
    "perm = torch.randperm(concat_tensor.size(0))\n",
    "x_BC = concat_tensor[perm]\n",
    "\n",
    "x_BC=x_BC\n",
    "x_BC=x_BC.unsqueeze(1)\n",
    "\n",
    "t_BC=T*torch.rand(size=(num_input,)) \n",
    "t_BC=t_BC.unsqueeze(1)\n",
    "\n",
    "xt_BC = torch.hstack((x_BC, t_BC))"
   ]
  },
  {
   "cell_type": "markdown",
   "metadata": {},
   "source": [
    "Input data plot"
   ]
  },
  {
   "cell_type": "code",
   "execution_count": 15,
   "metadata": {},
   "outputs": [
    {
     "data": {
      "text/plain": [
       "<matplotlib.collections.PathCollection at 0x243421c8850>"
      ]
     },
     "execution_count": 15,
     "metadata": {},
     "output_type": "execute_result"
    },
    {
     "data": {
      "image/png": "[encoded data removed]",
      "text/plain": [
       "<Figure size 640x480 with 1 Axes>"
      ]
     },
     "metadata": {},
     "output_type": "display_data"
    }
   ],
   "source": [
    "plt.scatter(*(xt_GE.numpy().T),\n",
    "    s = 10, c = 'r', label='Red: Point for Govern Equation')\n",
    "plt.scatter(*(xt_IC.numpy().T),\n",
    "    s = 10, c = 'g', label='Green: Point for Initial Condition')\n",
    "plt.scatter(*(xt_BC.numpy().T),\n",
    "    s = 10, c = 'b', label='Blue: Point for Boundary Condition')"
   ]
  },
  {
   "cell_type": "markdown",
   "metadata": {},
   "source": [
    "Define model architecture\n"
   ]
  },
  {
   "cell_type": "code",
   "execution_count": 16,
   "metadata": {},
   "outputs": [],
   "source": [
    "class Model(nn.Module): #class child class(parent class)\n",
    "  def __init__(self, hidden_dim=128):\n",
    "    super(Model, self).__init__()\n",
    "    self.hidden_dim=hidden_dim\n",
    "    self.fc1=nn.Linear(in_features=2, out_features=self.hidden_dim)\n",
    "    self.fc2=nn.Linear(in_features=self.hidden_dim, out_features=self.hidden_dim)\n",
    "    self.fc3=nn.Linear(in_features=self.hidden_dim, out_features=self.hidden_dim)\n",
    "    self.fc4=nn.Linear(in_features=self.hidden_dim, out_features=self.hidden_dim)\n",
    "    self.fc5=nn.Linear(in_features=self.hidden_dim, out_features=1)\n",
    "\n",
    "  def forward(self, x):\n",
    "    x=self.fc1(x)\n",
    "    x=F.tanh(x)\n",
    "    x=self.fc2(x)\n",
    "    x=F.tanh(x)\n",
    "    x=self.fc3(x)\n",
    "    x=F.tanh(x)\n",
    "    x=self.fc4(x)\n",
    "    x=F.tanh(x)\n",
    "    x=self.fc5(x)\n",
    "    return x"
   ]
  },
  {
   "cell_type": "code",
   "execution_count": 22,
   "metadata": {},
   "outputs": [],
   "source": [
    "def count_parameters(model):\n",
    "    return sum(p.numel() for p in model.parameters() if p.requires_grad)"
   ]
  },
  {
   "cell_type": "code",
   "execution_count": 23,
   "metadata": {},
   "outputs": [
    {
     "name": "stdout",
     "output_type": "stream",
     "text": [
      "Total number of parameters in the model: 50049\n",
      "Model(\n",
      "  (fc1): Linear(in_features=2, out_features=128, bias=True)\n",
      "  (fc2): Linear(in_features=128, out_features=128, bias=True)\n",
      "  (fc3): Linear(in_features=128, out_features=128, bias=True)\n",
      "  (fc4): Linear(in_features=128, out_features=128, bias=True)\n",
      "  (fc5): Linear(in_features=128, out_features=1, bias=True)\n",
      ")\n"
     ]
    }
   ],
   "source": [
    "# Instantiate the model\n",
    "model = Model()\n",
    "\n",
    "# Count the parameters\n",
    "total_params = count_parameters(model)\n",
    "print(f\"Total number of parameters in the model: {total_params}\")\n",
    "print(model)\n"
   ]
  },
  {
   "cell_type": "markdown",
   "metadata": {},
   "source": [
    "Model to CUDA"
   ]
  },
  {
   "cell_type": "code",
   "execution_count": 24,
   "metadata": {},
   "outputs": [],
   "source": [
    "model=Model().cuda()"
   ]
  },
  {
   "cell_type": "markdown",
   "metadata": {},
   "source": [
    "Optimizer"
   ]
  },
  {
   "cell_type": "code",
   "execution_count": 25,
   "metadata": {},
   "outputs": [],
   "source": [
    "optimizer=torch.optim.Adam(model.parameters(), lr=learning_rate)"
   ]
  },
  {
   "cell_type": "markdown",
   "metadata": {},
   "source": [
    "Train"
   ]
  },
  {
   "cell_type": "code",
   "execution_count": 26,
   "metadata": {},
   "outputs": [
    {
     "data": {
      "application/vnd.jupyter.widget-view+json": {
       "model_id": "800938b6c6134e03b040a6934dcf9f69",
       "version_major": 2,
       "version_minor": 0
      },
      "text/plain": [
       "  0%|          | 0/1000 [00:00<?, ?it/s]"
      ]
     },
     "metadata": {},
     "output_type": "display_data"
    },
    {
     "name": "stdout",
     "output_type": "stream",
     "text": [
      "100th Loss_GE 0.0376\n",
      "100th Loss_BC 0.0305\n",
      "100th Loss_IC 0.0077\n",
      "\n",
      "200th Loss_GE 0.0088\n",
      "200th Loss_BC 0.0075\n",
      "200th Loss_IC 0.0026\n",
      "\n",
      "300th Loss_GE 0.0052\n",
      "300th Loss_BC 0.0020\n",
      "300th Loss_IC 0.0008\n",
      "\n",
      "400th Loss_GE 0.0020\n",
      "400th Loss_BC 0.0006\n",
      "400th Loss_IC 0.0005\n",
      "\n",
      "500th Loss_GE 0.0011\n",
      "500th Loss_BC 0.0004\n",
      "500th Loss_IC 0.0006\n",
      "\n",
      "600th Loss_GE 0.0013\n",
      "600th Loss_BC 0.0002\n",
      "600th Loss_IC 0.0002\n",
      "\n",
      "700th Loss_GE 0.0007\n",
      "700th Loss_BC 0.0000\n",
      "700th Loss_IC 0.0001\n",
      "\n",
      "800th Loss_GE 0.0006\n",
      "800th Loss_BC 0.0001\n",
      "800th Loss_IC 0.0001\n",
      "\n",
      "900th Loss_GE 0.0008\n",
      "900th Loss_BC 0.0001\n",
      "900th Loss_IC 0.0000\n",
      "\n",
      "1000th Loss_GE 0.0004\n",
      "1000th Loss_BC 0.0001\n",
      "1000th Loss_IC 0.0002\n",
      "\n"
     ]
    }
   ],
   "source": [
    "for e in tqdm(range(1, epochs+1)):\n",
    "    #Train\n",
    "    model.train()\n",
    "    ### 01. Data Generation (Collocation Points) ###\n",
    "\n",
    "    #points for GE\n",
    "    # Set the random seed for reproducibility\n",
    "\n",
    "\n",
    "    t_GE=T*torch.rand(size=(num_GE,)).cuda() #(num_GE,)\n",
    "    t_GE=t_GE.unsqueeze(1) #shape (num_GE,)->(num_GE, 1)\n",
    "\n",
    "    x_GE = 2 * torch.rand(size=(num_GE,)).cuda() - 1\n",
    "    x_GE = x_GE.unsqueeze(1)\n",
    "\n",
    "    xt_GE = torch.hstack((x_GE, t_GE)).requires_grad_()\n",
    "\n",
    "    #points for IC\n",
    "    t_IC = torch.zeros((num_GE,)).cuda()\n",
    "    t_IC=t_IC.unsqueeze(1)\n",
    "\n",
    "    x_IC = 2 * torch.rand(size=(num_GE, )).cuda() - 1\n",
    "    x_IC=x_IC.unsqueeze(1) #shape (num_GE,)->(num_GE, 1)\n",
    "\n",
    "    xt_IC = torch.hstack((x_IC, t_IC))\n",
    "\n",
    "    #points for BC\n",
    "\n",
    "    tensor_ones=torch.ones(500)\n",
    "    tensor_neg_ones=-1*torch.ones(500)\n",
    "\n",
    "    concat_tensor = torch.cat((tensor_ones, tensor_neg_ones), 0)\n",
    "\n",
    "    perm = torch.randperm(concat_tensor.size(0))\n",
    "    x_BC = concat_tensor[perm]\n",
    "\n",
    "    x_BC=x_BC.cuda()\n",
    "    x_BC=x_BC.unsqueeze(1)\n",
    "\n",
    "    t_BC=T*torch.rand(size=(num_GE,)).cuda() #(num_GE,)\n",
    "    t_BC=t_BC.unsqueeze(1)\n",
    "\n",
    "    xt_BC = torch.hstack((x_BC, t_BC))\n",
    "\n",
    "\n",
    "    ## 02. Update Parameters\n",
    "    optimizer.zero_grad()\n",
    "\n",
    "    #Loss_GE\n",
    "    t_GE.requires_grad=True\n",
    "    u_pred_GE=model(xt_GE)\n",
    "\n",
    "    ut_GE=torch.autograd.grad(u_pred_GE, xt_GE, create_graph=True, grad_outputs=torch.ones_like(u_pred_GE))[0][:,1]\n",
    "\n",
    "    ux_GE=torch.autograd.grad(u_pred_GE, xt_GE, create_graph=True, grad_outputs=torch.ones_like(u_pred_GE))[0][:,0].unsqueeze(1)\n",
    "    uxx_GE=torch.autograd.grad(ux_GE, xt_GE, create_graph=True, grad_outputs=torch.ones_like(u_pred_GE))[0][:,0]\n",
    "\n",
    "    Loss_GE=((ut_GE-uxx_GE-((torch.pi)**2-np.sqrt(7))*(torch.exp(-np.sqrt(7)*t_GE.squeeze()))*torch.sin(torch.pi*x_GE.squeeze()))**2).mean()\n",
    "\n",
    "\n",
    "    #Loss_IC\n",
    "    Loss_IC=((model(xt_IC).squeeze()-torch.sin(torch.pi*x_IC.squeeze()))**2).mean()\n",
    "\n",
    "    #Loss_BC\n",
    "    Loss_BC=((model(xt_BC).squeeze())**2).mean()\n",
    "\n",
    "\n",
    "\n",
    "    #Loss_Total -> Update\n",
    "    Loss_Total=Loss_GE+Loss_IC+Loss_BC\n",
    "    Loss_Total.backward()\n",
    "    optimizer.step() #Backpropagation->Update Parameters\n",
    "\n",
    "    #Print()\n",
    "    if e%100==0:\n",
    "        print('{}th Loss_GE {:.4f}'.format(e, Loss_GE))\n",
    "        print('{}th Loss_BC {:.4f}'.format(e, Loss_BC))\n",
    "        print('{}th Loss_IC {:.4f}'.format(e, Loss_IC))\n",
    "        print(\"\")"
   ]
  },
  {
   "cell_type": "markdown",
   "metadata": {},
   "source": [
    "Generating ground truth data of 1D-Heat Equation\n",
    "\n",
    "$$ u(x, t) = \\sin\\pi (x) \\cdot e^{\\sqrt{7}t} $$\n",
    "\n"
   ]
  },
  {
   "cell_type": "code",
   "execution_count": 36,
   "metadata": {},
   "outputs": [],
   "source": [
    "def generate_data_and_calculate_u():\n",
    "    # Generating x values from -1 to 1 in steps of 0.05\n",
    "    x_values = np.arange(-1, 1.01, 0.01)\n",
    "\n",
    "    # Generating t values from 0 to 1 in steps of 0.1\n",
    "    t_values = np.arange(0, 1.01, 0.01)\n",
    "\n",
    "    # Preparing a container for the results\n",
    "    u_values_over_time = []\n",
    "\n",
    "    # Calculating u(x, t) for each time step\n",
    "    for t in t_values:\n",
    "        u_values = np.sin(np.pi * x_values) * np.exp(-np.sqrt(7) * t)\n",
    "        u_values_over_time.append(u_values)\n",
    "\n",
    "    return np.array(u_values_over_time)"
   ]
  },
  {
   "cell_type": "markdown",
   "metadata": {},
   "source": [
    "Function for creating animation"
   ]
  },
  {
   "cell_type": "code",
   "execution_count": 28,
   "metadata": {},
   "outputs": [],
   "source": [
    "def create_animation(u_data, filename='1D_Heat_GT_animation.gif', color_range=1):\n",
    "    # Create a temporary directory to store images\n",
    "    temp_dir = 'temp_images'\n",
    "    os.makedirs(temp_dir, exist_ok=True)\n",
    "\n",
    "    # Generate images for each time step\n",
    "    for i, u_values in enumerate(u_data):\n",
    "        plt.figure(figsize=(8, 2))\n",
    "        plt.imshow([u_values], aspect='auto', cmap='seismic', vmin=-color_range, vmax=color_range)\n",
    "        plt.colorbar(label='Temperature')\n",
    "        plt.title(f'Time: {i*0.01:.2f}')\n",
    "        plt.xticks(ticks=np.linspace(0, len(u_values)-1, num=5), labels=np.linspace(-1, 1, num=5))\n",
    "        plt.yticks([])\n",
    "        plt.xlabel('x')\n",
    "        \n",
    "        image_path = os.path.join(temp_dir, f'{i}.png')\n",
    "        plt.savefig(image_path)\n",
    "        plt.close()\n",
    "\n",
    "    # Create GIF\n",
    "    with imageio.get_writer(filename, mode='I', duration=0.2) as writer:\n",
    "        for i in range(len(u_data)):\n",
    "            image_path = os.path.join(temp_dir, f'{i}.png')\n",
    "            image = imageio.imread(image_path)\n",
    "            writer.append_data(image)\n",
    "\n",
    "    # Cleanup: remove temporary images\n",
    "    shutil.rmtree(temp_dir)\n"
   ]
  },
  {
   "cell_type": "markdown",
   "metadata": {},
   "source": [
    "Generate ground truth data"
   ]
  },
  {
   "cell_type": "code",
   "execution_count": 37,
   "metadata": {},
   "outputs": [],
   "source": [
    "u_data = generate_data_and_calculate_u()"
   ]
  },
  {
   "cell_type": "markdown",
   "metadata": {},
   "source": [
    "Create animation of ground truth data"
   ]
  },
  {
   "cell_type": "code",
   "execution_count": null,
   "metadata": {},
   "outputs": [],
   "source": [
    "# Create and save the animation\n",
    "create_animation(u_data)"
   ]
  },
  {
   "cell_type": "markdown",
   "metadata": {},
   "source": [
    "Generate input data for prediction"
   ]
  },
  {
   "cell_type": "code",
   "execution_count": 38,
   "metadata": {},
   "outputs": [],
   "source": [
    "x_values = np.arange(-1, 1.01, 0.01)\n",
    "t_values = np.arange(0, 1.01, 0.01)\n",
    "X, T = np.meshgrid(x_values, t_values)\n",
    "input_data = np.vstack([X.ravel(), T.ravel()]).T"
   ]
  },
  {
   "cell_type": "markdown",
   "metadata": {},
   "source": [
    "Prediction"
   ]
  },
  {
   "cell_type": "code",
   "execution_count": 39,
   "metadata": {},
   "outputs": [],
   "source": [
    "# Convert to PyTorch tensor\n",
    "input_tensor = torch.tensor(input_data, dtype=torch.float32).cuda()\n",
    "\n",
    "# Pass the data through the model\n",
    "model.eval()  # Set the model to evaluation mode\n",
    "with torch.no_grad():\n",
    "    predictions = model(input_tensor)\n",
    "\n",
    "# Reshape the output\n",
    "u_pred = predictions.cpu().numpy().reshape(T.shape)"
   ]
  },
  {
   "cell_type": "markdown",
   "metadata": {},
   "source": [
    "Create animation of prediction data"
   ]
  },
  {
   "cell_type": "code",
   "execution_count": 77,
   "metadata": {},
   "outputs": [
    {
     "name": "stderr",
     "output_type": "stream",
     "text": [
      "C:\\Users\\Jiseok\\AppData\\Local\\Temp\\ipykernel_21428\\1540000255.py:41: DeprecationWarning: Starting with ImageIO v3 the behavior of this function will switch to that of iio.v3.imread. To keep the current behavior (and make this warning disappear) use `import imageio.v2 as imageio` or call `imageio.v2.imread` directly.\n",
      "  image = imageio.imread(image_path)\n"
     ]
    }
   ],
   "source": [
    "create_animation(u_pred, '1D_Heat_pred_animation.gif', color_range=1)"
   ]
  },
  {
   "cell_type": "markdown",
   "metadata": {},
   "source": [
    "Create animation of ground truth - prediction"
   ]
  },
  {
   "cell_type": "code",
   "execution_count": 40,
   "metadata": {},
   "outputs": [
    {
     "name": "stderr",
     "output_type": "stream",
     "text": [
      "C:\\Users\\Jiseok\\AppData\\Local\\Temp\\ipykernel_21224\\1540000255.py:41: DeprecationWarning: Starting with ImageIO v3 the behavior of this function will switch to that of iio.v3.imread. To keep the current behavior (and make this warning disappear) use `import imageio.v2 as imageio` or call `imageio.v2.imread` directly.\n",
      "  image = imageio.imread(image_path)\n"
     ]
    }
   ],
   "source": [
    "# Create and save the animation\n",
    "create_animation(u_data-u_pred, '1D_Heat_diff_animation.gif', color_range=0.1)"
   ]
  },
  {
   "cell_type": "markdown",
   "metadata": {},
   "source": [
    "Calculate MSE"
   ]
  },
  {
   "cell_type": "code",
   "execution_count": 41,
   "metadata": {},
   "outputs": [
    {
     "name": "stdout",
     "output_type": "stream",
     "text": [
      "0.00018617813267126572\n"
     ]
    }
   ],
   "source": [
    "# Calculate the squared differences\n",
    "squared_differences = np.square(u_pred - u_data)\n",
    "\n",
    "# Calculate the Mean Squared Error\n",
    "mse = np.mean(squared_differences)\n",
    "print(mse)"
   ]
  },
  {
   "cell_type": "markdown",
   "metadata": {},
   "source": [
    "Initial condition plot"
   ]
  },
  {
   "cell_type": "code",
   "execution_count": 81,
   "metadata": {},
   "outputs": [
    {
     "data": {
      "text/plain": [
       "Text(0.5, 0, 'x')"
      ]
     },
     "execution_count": 81,
     "metadata": {},
     "output_type": "execute_result"
    },
    {
     "data": {
      "image/png": "[encoded data removed]",
      "text/plain": [
       "<Figure size 800x200 with 2 Axes>"
      ]
     },
     "metadata": {},
     "output_type": "display_data"
    }
   ],
   "source": [
    "plt.figure(figsize=(8, 2))\n",
    "plt.imshow([u_data[0]], aspect='auto', cmap='seismic', vmin=-1, vmax=1)\n",
    "plt.colorbar(label='Temperature')\n",
    "plt.title('Initial Condition (t=0)')\n",
    "plt.xticks(ticks=np.linspace(0, len(u_data[0])-1, num=5), labels=np.linspace(-1, 1, num=5))\n",
    "plt.yticks([])\n",
    "plt.xlabel('x')\n"
   ]
  }
 ],
 "metadata": {
  "kernelspec": {
   "display_name": "py_3.11_torch_2.1",
   "language": "python",
   "name": "python3"
  },
  "language_info": {
   "codemirror_mode": {
    "name": "ipython",
    "version": 3
   },
   "file_extension": ".py",
   "mimetype": "text/x-python",
   "name": "python",
   "nbconvert_exporter": "python",
   "pygments_lexer": "ipython3",
   "version": "3.11.5"
  }
 },
 "nbformat": 4,
 "nbformat_minor": 2
}
